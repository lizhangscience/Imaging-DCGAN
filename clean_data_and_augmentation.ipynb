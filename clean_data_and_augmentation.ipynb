{
 "cells": [
  {
   "cell_type": "code",
   "execution_count": 1,
   "metadata": {},
   "outputs": [],
   "source": [
    "import numpy as np\n",
    "import pylab as pl\n",
    "from astropy.io import fits\n",
    "from matplotlib import cm\n",
    "cmap = cm.get_cmap('gray')\n",
    "import time\n",
    "import tensorflow as tf\n",
    "import matplotlib.pyplot as plt\n",
    "from skimage import exposure\n",
    "%matplotlib inline\n",
    "import pandas as pd\n",
    "from scipy.ndimage import median_filter\n",
    "from scipy.ndimage import median_filter\n",
    "\n"
   ]
  },
  {
   "cell_type": "markdown",
   "metadata": {},
   "source": [
    "## data input"
   ]
  },
  {
   "cell_type": "code",
   "execution_count": 2,
   "metadata": {},
   "outputs": [],
   "source": [
    "calib_data = 'data/ALICE_Machine-Learning/ALICE_RefCube_F110W_Era-2.fits'\n",
    "calibdata = fits.open(calib_data)\n",
    "\n"
   ]
  },
  {
   "cell_type": "code",
   "execution_count": 3,
   "metadata": {},
   "outputs": [],
   "source": [
    "ceti_49 = 'data/ALICE_Machine-Learning/ALICE_49-Ceti_F110W_Era-2.fits'\n",
    "planet1 = fits.open(ceti_49)\n",
    "hd_377 = 'data/ALICE_Machine-Learning/ALICE_HD-377_F110W_Era-2.fits'\n",
    "planet2 = fits.open(hd_377)\n",
    "hd_164249 = 'data/ALICE_Machine-Learning/ALICE_HD-164249_F110W_Era-2.fits'\n",
    "planet3 = fits.open(hd_164249)\n",
    "hd_181327 = 'data/ALICE_Machine-Learning/ALICE_HD-181327_F110W_Era-2.fits'\n",
    "planet4 = fits.open(hd_181327)"
   ]
  },
  {
   "cell_type": "code",
   "execution_count": 4,
   "metadata": {},
   "outputs": [],
   "source": [
    "def cut_image(img_data):\n",
    "    cube = img_data[0].data\n",
    "    Nframes = len(cube[:,0,0])\n",
    "    Ny  = 64\n",
    "    Nx  = 64\n",
    "\n",
    "    # ylow = 325\n",
    "    # xlow = 550\n",
    "\n",
    "    ylow = 10\n",
    "    xlow = 10\n",
    "\n",
    "    cube_cut = np.zeros((Nframes,Nx,Ny))\n",
    "    for i in range(Nframes):\n",
    "        cube_cut[i,:,:] = cube[i,ylow:ylow+Ny,xlow:xlow+Nx]\n",
    "    return cube_cut"
   ]
  },
  {
   "cell_type": "code",
   "execution_count": 5,
   "metadata": {},
   "outputs": [],
   "source": [
    "raw_planet1 = cut_image(planet1)\n",
    "raw_planet2 = cut_image(planet2)\n",
    "raw_planet3 = cut_image(planet3)\n",
    "raw_planet4 = cut_image(planet4)\n"
   ]
  },
  {
   "cell_type": "code",
   "execution_count": 6,
   "metadata": {},
   "outputs": [],
   "source": [
    "##remove overly saturated pixels and replace with interpolated ones\n",
    "def find_bright_pixels(data,tolerance=5,blur = 3):\n",
    "    #This function finds the hot or dead pixels in a 2D dataset. \n",
    "    #tolerance is the number of standard deviations used to cutoff the hot pixels\n",
    "    #If you want to ignore the edges and greatly speed up the code, then set\n",
    "    #worry_about_edges to False.\n",
    "    #\n",
    "    #The function returns a list of hot pixels and also an image with with hot pixels removed    \n",
    "    \n",
    "    blurred = median_filter(data, size=blur)\n",
    "    difference = data - blurred\n",
    "    threshold = 10*np.std(difference)\n",
    "\n",
    "    #find the hot pixels, but ignore the edges\n",
    "    hot_pixels = np.nonzero((difference[1:-1,1:-1]>threshold) )\n",
    "    hot_pixels = np.array(hot_pixels) + 1 #because we ignored the first row and first column\n",
    "    fixed_image = np.copy(data) #This is the image with the hot pixels removed\n",
    "    for y,x in zip(hot_pixels[0],hot_pixels[1]):\n",
    "        fixed_image[y,x]=blurred[y,x]\n",
    "\n",
    "    dead_pixels = np.nonzero(data<-1000)\n",
    "    for y,x in zip(dead_pixels[0],dead_pixels[1]):\n",
    "        fixed_image[y,x]=blurred[y,x]\n",
    "\n",
    "    return fixed_image,blurred"
   ]
  },
  {
   "cell_type": "code",
   "execution_count": null,
   "metadata": {},
   "outputs": [],
   "source": []
  },
  {
   "cell_type": "code",
   "execution_count": 7,
   "metadata": {},
   "outputs": [],
   "source": [
    "# #inspect the cleaned image\n",
    "# new_image,blurred = find_outlier_pixels(cube_cut[13])\n",
    "# plt.imshow(new_image, cmap='gray')\n",
    "# plt.colorbar()\n",
    "# print('Mean:', np.min(new_image))"
   ]
  },
  {
   "cell_type": "code",
   "execution_count": 8,
   "metadata": {},
   "outputs": [],
   "source": [
    "def remove_outliner(data_cube):\n",
    "    new_data_cube = []\n",
    "    for i in range(len(data_cube)):\n",
    "        if np.max(data_cube[i]) > 10000:\n",
    "            new_image,_ = find_bright_pixels(data_cube[i])\n",
    "            new_data_cube.append(new_image)\n",
    "        else:\n",
    "            new_data_cube.append(data_cube[i])\n",
    "    ## leave out images that are still overly saturated. \n",
    "    data_cube_with_cleaned = []\n",
    "    for i in range(len(new_data_cube)):\n",
    "        if np.max(new_data_cube[i]) > 10000:\n",
    "            pass\n",
    "        else:\n",
    "            data_cube_with_cleaned.append(new_data_cube[i])\n",
    "    return np.array(data_cube_with_cleaned)"
   ]
  },
  {
   "cell_type": "code",
   "execution_count": 9,
   "metadata": {},
   "outputs": [],
   "source": [
    "def ignore_overly(data_cube):\n",
    "    ### new data cube without images with overly-saturated points. \n",
    "    data_cube_without_saturation = []\n",
    "    for i in range(len(data_cube)):\n",
    "        if np.max(data_cube[i]) > 10000:\n",
    "            pass\n",
    "        else:\n",
    "            data_cube_without_saturation.append(data_cube[i])\n",
    "    return data_cube_without_saturation"
   ]
  },
  {
   "cell_type": "code",
   "execution_count": null,
   "metadata": {},
   "outputs": [],
   "source": []
  },
  {
   "cell_type": "markdown",
   "metadata": {},
   "source": [
    "## data normalisation method"
   ]
  },
  {
   "cell_type": "code",
   "execution_count": 10,
   "metadata": {},
   "outputs": [],
   "source": [
    "def local_normal(data):\n",
    "    new_imgs_list = []\n",
    "    for imgs in data:\n",
    "        local_min = np.min(imgs)\n",
    "        new_imgs = imgs - local_min\n",
    "        local_max = np.max(new_imgs)\n",
    "        new_imgs = new_imgs/local_max\n",
    "        new_imgs_list.append(new_imgs)\n",
    "    return np.array(new_imgs_list).reshape(-1,64,64)"
   ]
  },
  {
   "cell_type": "code",
   "execution_count": 11,
   "metadata": {},
   "outputs": [],
   "source": [
    "raw_data = cut_image(calibdata)\n",
    "cleaned_data = ignore_overly(raw_data)\n"
   ]
  },
  {
   "cell_type": "code",
   "execution_count": 13,
   "metadata": {},
   "outputs": [
    {
     "data": {
      "text/plain": [
       "(742, 64, 64)"
      ]
     },
     "execution_count": 13,
     "metadata": {},
     "output_type": "execute_result"
    }
   ],
   "source": [
    "np.shape(cleaned_data)"
   ]
  },
  {
   "cell_type": "code",
   "execution_count": null,
   "metadata": {},
   "outputs": [],
   "source": []
  },
  {
   "cell_type": "code",
   "execution_count": 17,
   "metadata": {},
   "outputs": [
    {
     "data": {
      "image/png": "[encoded data removed]",
      "text/plain": [
       "<Figure size 432x288 with 1 Axes>"
      ]
     },
     "metadata": {},
     "output_type": "display_data"
    },
    {
     "data": {
      "image/png": "[encoded data removed]",
      "text/plain": [
       "<Figure size 432x288 with 1 Axes>"
      ]
     },
     "metadata": {},
     "output_type": "display_data"
    }
   ],
   "source": [
    "plt.imshow(raw_data[1])\n",
    "plt.show()\n",
    "plt.imshow(cleaned_data[7])\n",
    "plt.show()"
   ]
  },
  {
   "cell_type": "code",
   "execution_count": null,
   "metadata": {},
   "outputs": [],
   "source": []
  },
  {
   "cell_type": "code",
   "execution_count": 15,
   "metadata": {},
   "outputs": [],
   "source": [
    "\n",
    "global_min_bfe = np.min(data_cube_with_cleaned)\n",
    "lifted_cube = data_cube_with_cleaned+ abs(global_min_bfe)+1\n",
    "global_min_aft = np.min(lifted_cube)\n",
    "global_max = np.max(lifted_cube)\n",
    "min_distance = np.zeros((len(lifted_cube)))\n",
    "max_distance = np.zeros((len(lifted_cube)))\n",
    "\n",
    "for i in range(len(lifted_cube)):\n",
    "    local_max = np.max(lifted_cube[i])\n",
    "    local_min = np.min(lifted_cube[i])\n",
    "    min_distance[i] += (abs(global_min_aft)+abs(local_min))\n",
    "    max_distance[i] += global_max-local_max\n",
    "\n",
    "nor_min_dis = min_distance/np.max(min_distance)\n",
    "nor_max_dis = 1- max_distance/np.max(max_distance)"
   ]
  },
  {
   "cell_type": "code",
   "execution_count": 16,
   "metadata": {},
   "outputs": [
    {
     "name": "stdout",
     "output_type": "stream",
     "text": [
      "lift_up_factor 1000.85418701\n",
      "min_distance 1012.42256451\n",
      "max_distance 9056.13032603\n"
     ]
    }
   ],
   "source": [
    "print(\"lift_up_factor\",abs(global_min_bfe)+1)\n",
    "print(\"min_distance\",np.max(min_distance))\n",
    "print(\"max_distance\",np.max(max_distance))\n",
    "\n",
    "normal_info = np.array([abs(global_min_bfe)+1,np.max(min_distance),np.max(max_distance),global_min_aft,global_max])"
   ]
  },
  {
   "cell_type": "code",
   "execution_count": null,
   "metadata": {},
   "outputs": [],
   "source": []
  },
  {
   "cell_type": "code",
   "execution_count": 27,
   "metadata": {},
   "outputs": [],
   "source": [
    "def scale_data(data_cube,lift_up_factor,global_max,global_min,max_min_dis,max_max_dis):\n",
    "    data_cube1 = data_cube+ abs(lift_up_factor)\n",
    "    print(np.min(data_cube))\n",
    "    print(np.min(data_cube1))\n",
    "    if np.min(data_cube1)<0:\n",
    "        print(\"outside bound\")\n",
    "    else:\n",
    "        data_nor = local_normal(data_cube1)\n",
    "        nor_data_hybrid = np.zeros_like(data_nor)\n",
    "        \n",
    "        for i in range(len(data_nor)):\n",
    "            local_max = np.max(data_cube1[i])\n",
    "            local_min = np.min(data_cube1[i])\n",
    "            min_distance = (abs(global_min)+abs(local_min))\n",
    "            max_distance = global_max-local_max\n",
    "            nor_min_dis = min_distance/max_min_dis\n",
    "            nor_max_dis = 1- max_distance/max_max_dis\n",
    "            test_img = data_nor[i].copy()\n",
    "            test_img[:3,:] = nor_max_dis\n",
    "            test_img[61:,:] = nor_min_dis\n",
    "            nor_data_hybrid[i,:,:] += test_img\n",
    "    return nor_data_hybrid"
   ]
  },
  {
   "cell_type": "code",
   "execution_count": null,
   "metadata": {},
   "outputs": [],
   "source": []
  },
  {
   "cell_type": "code",
   "execution_count": null,
   "metadata": {},
   "outputs": [],
   "source": []
  },
  {
   "cell_type": "code",
   "execution_count": 17,
   "metadata": {},
   "outputs": [],
   "source": [
    "\n",
    "#train test split\n",
    "from sklearn.model_selection import train_test_split\n",
    "X = lifted_cube\n",
    "X_train, X_test = train_test_split(X, test_size=0.10, random_state=42)\n",
    "\n",
    "\n"
   ]
  },
  {
   "cell_type": "code",
   "execution_count": 36,
   "metadata": {},
   "outputs": [
    {
     "name": "stdout",
     "output_type": "stream",
     "text": [
      "14.0353393555\n",
      "14.0353393555\n"
     ]
    }
   ],
   "source": [
    "nor_test = scale_data(X_test,0,global_max,global_min_aft,np.max(min_distance),np.max(max_distance))"
   ]
  },
  {
   "cell_type": "code",
   "execution_count": null,
   "metadata": {},
   "outputs": [],
   "source": [
    "### same treatment to test data.\n",
    "clean_planet1 = remove_outliner(raw_planet1)\n",
    "clean_planet2 = remove_outliner(raw_planet2)\n",
    "clean_planet3 = remove_outliner(raw_planet3)\n",
    "clean_planet4 = remove_outliner(raw_planet4)\n",
    "\n",
    "#normalisation using given dynamic range.\n"
   ]
  },
  {
   "cell_type": "code",
   "execution_count": null,
   "metadata": {},
   "outputs": [],
   "source": [
    "clean_planet1.min()"
   ]
  },
  {
   "cell_type": "code",
   "execution_count": null,
   "metadata": {},
   "outputs": [],
   "source": [
    "planet2_normal = scale_data(clean_planet2,abs(global_min_bfe)+1,global_max,global_min_aft,np.max(min_distance),np.max(max_distance))\n",
    "planet4_normal = scale_data(clean_planet4,abs(global_min_bfe)+1,global_max,global_min_aft,np.max(min_distance),np.max(max_distance))\n",
    "planet3_normal = scale_data(clean_planet3,abs(global_min_bfe)+1,global_max,global_min_aft,np.max(min_distance),np.max(max_distance))"
   ]
  },
  {
   "cell_type": "code",
   "execution_count": null,
   "metadata": {},
   "outputs": [],
   "source": [
    "i=3\n",
    "plt.imshow(clean_planet3[i])\n",
    "plt.colorbar()\n",
    "plt.show()\n",
    "plt.imshow(planet3_normal[i])\n",
    "plt.colorbar()\n",
    "plt.show()\n",
    "print(np.max(raw_planet3[i]),np.max(clean_planet3[i]))\n",
    "print(np.min(raw_planet3[i]),np.min(clean_planet3[i]))\n",
    "\n",
    "print(raw_planet3[i][np.where(raw_planet3[i]<0)])\n",
    "\n",
    "np.save(\"HST_hd377_hybrid\",planet2_normal)\n",
    "np.save(\"HST_hd_164249_hybrid\",planet3_normal)\n",
    "np.save(\"HST_hd_181327_hybrid\",planet4_normal)"
   ]
  },
  {
   "cell_type": "markdown",
   "metadata": {},
   "source": [
    "### "
   ]
  },
  {
   "cell_type": "markdown",
   "metadata": {},
   "source": [
    "## Data augmentation\n"
   ]
  },
  {
   "cell_type": "code",
   "execution_count": 12,
   "metadata": {},
   "outputs": [],
   "source": [
    "import imgaug as ia \n",
    "from imgaug import augmenters as iaa"
   ]
  },
  {
   "cell_type": "code",
   "execution_count": null,
   "metadata": {},
   "outputs": [],
   "source": [
    "np.shape(X_train),np.shape(X_test)"
   ]
  },
  {
   "cell_type": "code",
   "execution_count": 13,
   "metadata": {},
   "outputs": [],
   "source": [
    "def add_salt_pepper_noise(X_imgs,sp_ratio=0.5,number=0.0006):\n",
    "    # Need to produce a copy as to not modify the original image\n",
    "    X_imgs_copy = X_imgs.copy()\n",
    "    row, col = X_imgs_copy.shape\n",
    "    salt_vs_pepper = sp_ratio\n",
    "    amount = number\n",
    "    num_salt = np.ceil(amount * X_imgs_copy.size * salt_vs_pepper)\n",
    "    num_pepper = np.ceil(amount * X_imgs_copy.size * (1.0 - salt_vs_pepper))\n",
    "\n",
    "        # Add Salt noise\n",
    "    coords = [np.random.randint(0, i - 1, int(num_salt)) for i in X_imgs_copy.shape]\n",
    "    X_imgs_copy[coords[0], coords[1]] = 1\n",
    "        # Add Pepper noise\n",
    "    coords = [np.random.randint(0, i - 1, int(num_pepper)) for i in X_imgs_copy.shape]\n",
    "    X_imgs_copy[coords[0], coords[1]] = 0\n",
    "    return X_imgs_copy"
   ]
  },
  {
   "cell_type": "code",
   "execution_count": 14,
   "metadata": {},
   "outputs": [],
   "source": [
    "def add_gaussian_noise(X_imgs,mean = 0,sigma = 0.1):\n",
    "    row, col= X_imgs.shape\n",
    "    gauss = np.random.normal(mean,sigma,(row,col))    \n",
    "    new_img = X_imgs + gauss\n",
    "\n",
    "    return new_img\n",
    "  \n"
   ]
  },
  {
   "cell_type": "code",
   "execution_count": null,
   "metadata": {},
   "outputs": [],
   "source": [
    "\n",
    "\n"
   ]
  },
  {
   "cell_type": "code",
   "execution_count": null,
   "metadata": {},
   "outputs": [],
   "source": [
    "\n"
   ]
  },
  {
   "cell_type": "code",
   "execution_count": null,
   "metadata": {},
   "outputs": [],
   "source": []
  },
  {
   "cell_type": "code",
   "execution_count": null,
   "metadata": {},
   "outputs": [],
   "source": [
    "\n",
    "\n",
    "\n"
   ]
  },
  {
   "cell_type": "code",
   "execution_count": null,
   "metadata": {},
   "outputs": [],
   "source": [
    "X_train = np.array(X_train)\n",
    "X_test = np.array(X_test)"
   ]
  },
  {
   "cell_type": "code",
   "execution_count": null,
   "metadata": {},
   "outputs": [],
   "source": []
  },
  {
   "cell_type": "code",
   "execution_count": 19,
   "metadata": {},
   "outputs": [],
   "source": [
    "##Data augmenation pipeline. \n",
    "\n",
    "def data_aug(data,check_img = False):\n",
    "    ##adding gaussian noise\n",
    "    length = len(data)\n",
    "    noise_list = np.arange(0,12,2)\n",
    "    randn_list = np.random.randint(len(noise_list),size=length)\n",
    "    noise_imgs = []\n",
    "    \n",
    "    for idx,imgs in enumerate(data):\n",
    "        gaus_imgs = add_gaussian_noise(imgs,noise_list[randn_list[idx]],sigma=0.5)\n",
    "        if (check_img == True and idx == 300):\n",
    "            plt.imshow(gaus_imgs)\n",
    "            plt.show()\n",
    "        noise_imgs.append(gaus_imgs)\n",
    "    noise_imgs = np.array(noise_imgs).reshape(-1,64,64)\n",
    "    #extract global min max\n",
    "    global_min_aft = np.min(data)\n",
    "    global_max = np.max(data)\n",
    "    min_distance = np.zeros((len(data)))\n",
    "    max_distance = np.zeros((len(data)))\n",
    "    ##normalisation\n",
    "    nor_train = local_normal(noise_imgs)\n",
    "    print(np.max(nor_train))\n",
    "    for i in range(len(data)):\n",
    "        local_max = np.max(data[i])\n",
    "        local_min = np.min(data[i])\n",
    "        min_distance[i] += (abs(global_min_aft)+abs(local_min))\n",
    "        max_distance[i] += global_max-local_max\n",
    "\n",
    "    nor_min_dis = min_distance/np.max(min_distance)\n",
    "    nor_max_dis = 1- max_distance/np.max(max_distance)\n",
    "    \n",
    "    ##add salt and pepper\n",
    "    augmented_imgs = []\n",
    "    sp_ratio_list = np.arange(0.1, 0.8,0.1)\n",
    "    freq = np.arange(0.01,0.04,0.005)\n",
    "    scale_list = np.arange(0.8,1.4, 0.05)\n",
    "    rotate_list = np.arange(-90,0,90)\n",
    "    randn_list2 = np.random.randint(len(sp_ratio_list),size=length)\n",
    "    randn_list3 = np.random.randint(len(freq),size=length)\n",
    "    randn_list4 = np.random.randint(len(scale_list),size=length)\n",
    "    randn_list5 = np.random.randint(2,size = length)\n",
    "    randn_list6 = np.random.randint(2,size = length)\n",
    "    randn_list7 = np.random.randint(len(rotate_list),size=length)\n",
    "    for idx,imgs in enumerate(nor_train):\n",
    "        enlarger = iaa.Affine(scale=scale_list[randn_list4[idx]])\n",
    "        scaled_imgs = enlarger.augment_image(imgs)\n",
    "        if (check_img == True and idx == 300):\n",
    "            plt.imshow(scaled_imgs)\n",
    "            plt.show()\n",
    "        seasoned = add_salt_pepper_noise(scaled_imgs,sp_ratio=sp_ratio_list[randn_list2[idx]],number=freq[randn_list3[idx]])\n",
    "        if (check_img == True and idx == 300):\n",
    "            plt.imshow(seasoned)\n",
    "            plt.show()\n",
    "        fliperlr = iaa.Fliplr(randn_list5[idx])\n",
    "        fliperud = iaa.Flipud(randn_list6[idx])\n",
    "        flip_imgs = fliperlr.augment_image(seasoned)\n",
    "        flip_imgs = fliperud.augment_image(flip_imgs)\n",
    "        if (check_img == True and idx == 300):\n",
    "            plt.imshow(flip_imgs)\n",
    "            plt.show()\n",
    "        rotator = iaa.Affine(rotate=rotate_list[randn_list7[idx]])\n",
    "        rotate_imgs = rotator.augment_image(flip_imgs)\n",
    "        if (check_img == True and idx == 300):\n",
    "            plt.imshow(rotate_imgs)\n",
    "            plt.show()\n",
    "        \n",
    "        augmented_imgs.append(rotate_imgs)\n",
    "    augmented_imgs=np.array(augmented_imgs).reshape(-1,64,64)\n",
    "    \n",
    "    #ADD NOR FACTOR\n",
    "    nor_data_hybrid = np.zeros_like(augmented_imgs)\n",
    "    for i in range(len(augmented_imgs)):\n",
    "        test_img = augmented_imgs[i].copy()\n",
    "        test_img[:3,:] = nor_max_dis[i]\n",
    "        test_img[61:,:] = nor_min_dis[i]\n",
    "        nor_data_hybrid[i,:,:] += test_img\n",
    "    np.max(nor_data_hybrid)\n",
    "    return nor_data_hybrid\n",
    "        \n",
    "    \n",
    "        \n",
    "        "
   ]
  },
  {
   "cell_type": "code",
   "execution_count": 20,
   "metadata": {},
   "outputs": [
    {
     "data": {
      "image/png": "[encoded data removed]",
      "text/plain": [
       "<Figure size 432x288 with 1 Axes>"
      ]
     },
     "metadata": {},
     "output_type": "display_data"
    },
    {
     "name": "stdout",
     "output_type": "stream",
     "text": [
      "1.0\n"
     ]
    },
    {
     "data": {
      "image/png": "[encoded data removed]",
      "text/plain": [
       "<Figure size 432x288 with 1 Axes>"
      ]
     },
     "metadata": {},
     "output_type": "display_data"
    },
    {
     "data": {
      "image/png": "[encoded data removed]",
      "text/plain": [
       "<Figure size 432x288 with 1 Axes>"
      ]
     },
     "metadata": {},
     "output_type": "display_data"
    },
    {
     "data": {
      "image/png": "[encoded data removed]",
      "text/plain": [
       "<Figure size 432x288 with 1 Axes>"
      ]
     },
     "metadata": {},
     "output_type": "display_data"
    },
    {
     "data": {
      "image/png": "[encoded data removed]",
      "text/plain": [
       "<Figure size 432x288 with 1 Axes>"
      ]
     },
     "metadata": {},
     "output_type": "display_data"
    }
   ],
   "source": [
    "#test \n",
    "aug_images = data_aug(X_train,check_img=True)"
   ]
  },
  {
   "cell_type": "code",
   "execution_count": 26,
   "metadata": {},
   "outputs": [
    {
     "data": {
      "text/plain": [
       "<matplotlib.image.AxesImage at 0x1c2f6f3fd0>"
      ]
     },
     "execution_count": 26,
     "metadata": {},
     "output_type": "execute_result"
    },
    {
     "data": {
      "image/png": "[encoded data removed]",
      "text/plain": [
       "<Figure size 432x288 with 1 Axes>"
      ]
     },
     "metadata": {},
     "output_type": "display_data"
    }
   ],
   "source": [
    "plt.imshow(aug_images[33])"
   ]
  },
  {
   "cell_type": "code",
   "execution_count": 33,
   "metadata": {},
   "outputs": [
    {
     "name": "stdout",
     "output_type": "stream",
     "text": [
      "1.0\n",
      "1.0\n",
      "1.0\n",
      "1.0\n",
      "1.0\n",
      "1.0\n",
      "1.0\n",
      "1.0\n"
     ]
    }
   ],
   "source": [
    "aug_images.shape\n",
    "aug_data_cube = []\n",
    "for i in range(8):\n",
    "    aug_images = data_aug(X_train)\n",
    "    aug_data_cube.append(aug_images)\n",
    "aug_data_cube = np.array(aug_data_cube).reshape(-1,64,64)"
   ]
  },
  {
   "cell_type": "code",
   "execution_count": 34,
   "metadata": {},
   "outputs": [
    {
     "data": {
      "text/plain": [
       "(5776, 64, 64)"
      ]
     },
     "execution_count": 34,
     "metadata": {},
     "output_type": "execute_result"
    }
   ],
   "source": [
    "aug_data_cube.shape"
   ]
  },
  {
   "cell_type": "markdown",
   "metadata": {},
   "source": [
    "# Interpolation to create new images"
   ]
  },
  {
   "cell_type": "code",
   "execution_count": null,
   "metadata": {},
   "outputs": [],
   "source": [
    "np.shape(training)\n",
    "\n",
    "weight = np.arange(0.1,1,0.1)\n",
    "\n",
    "print(weight)\n",
    "new_img_list = np.array([])\n",
    "for i in range(1):\n",
    "    test_img = training[i]\n",
    "    for j in range(5):\n",
    "        if i != j:\n",
    "            test_img2 = training[j]\n",
    "            new_img = np.zeros_like(test_img)\n",
    "            randint = np.random.randint(len(weight))\n",
    "            for k in range(len(test_img)):\n",
    "                new_img[k] += (weight[randint]*test_img[k] +(1-weight[randint])*test_img2[k])/1\n",
    "            new_img_list = np.append(new_img_list,new_img)    \n",
    "\n",
    "new_img_list = new_img_list.reshape(-1,64,64)\n",
    "new_img_list.shape\n",
    "for i in range(len(new_img_list)):\n",
    "    print(np.max(new_img_list[i]),np.min(new_img_list[i]),np.mean(new_img_list[i]))"
   ]
  },
  {
   "cell_type": "code",
   "execution_count": null,
   "metadata": {},
   "outputs": [],
   "source": []
  },
  {
   "cell_type": "code",
   "execution_count": null,
   "metadata": {},
   "outputs": [],
   "source": []
  },
  {
   "cell_type": "code",
   "execution_count": null,
   "metadata": {},
   "outputs": [],
   "source": []
  },
  {
   "cell_type": "markdown",
   "metadata": {},
   "source": [
    "## stacking cube and normalisation"
   ]
  },
  {
   "cell_type": "code",
   "execution_count": 37,
   "metadata": {},
   "outputs": [
    {
     "name": "stdout",
     "output_type": "stream",
     "text": [
      "1.0\n",
      "1.0\n"
     ]
    },
    {
     "data": {
      "text/plain": [
       "(6498, 64, 64)"
      ]
     },
     "execution_count": 37,
     "metadata": {},
     "output_type": "execute_result"
    }
   ],
   "source": [
    "nor_train = scale_data(X_train,0,global_max,global_min_aft,np.max(min_distance),np.max(max_distance))\n",
    "train_image = np.vstack([nor_train,aug_data_cube])\n",
    "train_image.shape"
   ]
  },
  {
   "cell_type": "code",
   "execution_count": null,
   "metadata": {},
   "outputs": [],
   "source": []
  },
  {
   "cell_type": "code",
   "execution_count": 38,
   "metadata": {},
   "outputs": [],
   "source": [
    "np.save('HST_aug_hybrid_5776', train_image)\n",
    "# np.save('HST_aug_data_test', nor_test)"
   ]
  },
  {
   "cell_type": "code",
   "execution_count": null,
   "metadata": {},
   "outputs": [],
   "source": []
  },
  {
   "cell_type": "markdown",
   "metadata": {},
   "source": [
    "## check the residual between calib. stars"
   ]
  },
  {
   "cell_type": "code",
   "execution_count": null,
   "metadata": {},
   "outputs": [],
   "source": [
    "normalised_training_set = normalise_cube(data_cube_without_saturation)"
   ]
  },
  {
   "cell_type": "code",
   "execution_count": null,
   "metadata": {},
   "outputs": [],
   "source": [
    "mean_img = np.mean(normalised_training_set,axis=0)"
   ]
  },
  {
   "cell_type": "code",
   "execution_count": null,
   "metadata": {},
   "outputs": [],
   "source": [
    "residual_block = normalised_training_set - mean_img"
   ]
  },
  {
   "cell_type": "code",
   "execution_count": null,
   "metadata": {
    "scrolled": false
   },
   "outputs": [],
   "source": []
  },
  {
   "cell_type": "code",
   "execution_count": null,
   "metadata": {},
   "outputs": [],
   "source": []
  },
  {
   "cell_type": "code",
   "execution_count": null,
   "metadata": {},
   "outputs": [],
   "source": []
  }
 ],
 "metadata": {
  "kernelspec": {
   "display_name": "Python [conda env:py36]",
   "language": "python",
   "name": "conda-env-py36-py"
  },
  "language_info": {
   "codemirror_mode": {
    "name": "ipython",
    "version": 3
   },
   "file_extension": ".py",
   "mimetype": "text/x-python",
   "name": "python",
   "nbconvert_exporter": "python",
   "pygments_lexer": "ipython3",
   "version": "3.6.4"
  }
 },
 "nbformat": 4,
 "nbformat_minor": 2
}

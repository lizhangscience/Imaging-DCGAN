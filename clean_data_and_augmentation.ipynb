{
 "cells": [
  {
   "cell_type": "code",
   "execution_count": 1,
   "metadata": {},
   "outputs": [],
   "source": [
    "import numpy as np\n",
    "import pylab as pl\n",
    "from astropy.io import fits\n",
    "from matplotlib import cm\n",
    "cmap = cm.get_cmap('gray')\n",
    "import time\n",
    "import tensorflow as tf\n",
    "import matplotlib.pyplot as plt\n",
    "from skimage import exposure\n",
    "%matplotlib inline\n",
    "import pandas as pd\n"
   ]
  },
  {
   "cell_type": "markdown",
   "metadata": {},
   "source": [
    "## data input"
   ]
  },
  {
   "cell_type": "code",
   "execution_count": 2,
   "metadata": {},
   "outputs": [],
   "source": [
    "calib_data = 'data/ALICE_Machine-Learning/ALICE_RefCube_F110W_Era-2.fits'\n",
    "calibdata = fits.open(calib_data)\n",
    "\n"
   ]
  },
  {
   "cell_type": "code",
   "execution_count": 3,
   "metadata": {},
   "outputs": [
    {
     "data": {
      "text/plain": [
       "(809, 80, 80)"
      ]
     },
     "execution_count": 3,
     "metadata": {},
     "output_type": "execute_result"
    }
   ],
   "source": [
    "calibdata[0].shape"
   ]
  },
  {
   "cell_type": "code",
   "execution_count": 4,
   "metadata": {},
   "outputs": [
    {
     "data": {
      "text/plain": [
       "<matplotlib.colorbar.Colorbar at 0xa23be4208>"
      ]
     },
     "execution_count": 4,
     "metadata": {},
     "output_type": "execute_result"
    },
    {
     "data": {
      "image/png": "[encoded data removed]",
      "text/plain": [
       "<Figure size 432x288 with 2 Axes>"
      ]
     },
     "metadata": {},
     "output_type": "display_data"
    }
   ],
   "source": [
    "raw = calibdata[0].data\n",
    "\n",
    "image_data = raw[6]\n",
    "plt.imshow(image_data, cmap='gray')\n",
    "plt.colorbar()\n"
   ]
  },
  {
   "cell_type": "code",
   "execution_count": 5,
   "metadata": {},
   "outputs": [],
   "source": [
    "cube = calibdata[0].data\n",
    "Nframes = len(cube[:,0,0])\n",
    "Ny  = 64\n",
    "Nx  = 64\n",
    "\n",
    "# ylow = 325\n",
    "# xlow = 550\n",
    "\n",
    "ylow = 10\n",
    "xlow = 10\n",
    "\n",
    "cube_cut = np.zeros((Nframes,Nx,Ny))\n",
    "for i in range(Nframes):\n",
    "    cube_cut[i,:,:] = cube[i,ylow:ylow+Ny,xlow:xlow+Nx]"
   ]
  },
  {
   "cell_type": "code",
   "execution_count": 6,
   "metadata": {},
   "outputs": [
    {
     "data": {
      "text/plain": [
       "<matplotlib.colorbar.Colorbar at 0xa23d3f6d8>"
      ]
     },
     "execution_count": 6,
     "metadata": {},
     "output_type": "execute_result"
    },
    {
     "data": {
      "image/png": "[encoded data removed]",
      "text/plain": [
       "<Figure size 432x288 with 2 Axes>"
      ]
     },
     "metadata": {},
     "output_type": "display_data"
    }
   ],
   "source": [
    "\n",
    "over_data = cube_cut[13]\n",
    "plt.imshow(over_data, cmap='gray')\n",
    "plt.colorbar()"
   ]
  },
  {
   "cell_type": "code",
   "execution_count": 7,
   "metadata": {},
   "outputs": [],
   "source": [
    "# fig, axs = plt.subplots(1, 3, figsize=(9, 3), sharey=True)\n",
    "# axs[0].imshow(over_data, cmap='gray')\n",
    "# axs[0].set_title(\"w/ saturated pixel\")\n",
    "# axs[1].imshow(new_image, cmap='gray')\n",
    "# axs[1].set_title(\"saturated pixel removed\")\n",
    "# axs[2].imshow(image_data, cmap='gray')\n",
    "# axs[2].set_title(\"reference (w/o saturated pixel)\")\n",
    "# plt.savefig(\"cleaned_img\")"
   ]
  },
  {
   "cell_type": "code",
   "execution_count": 8,
   "metadata": {},
   "outputs": [],
   "source": [
    "##remove overly saturated pixels and replace with interpolated ones\n",
    "def find_outlier_pixels(data,tolerance=3,blur = 3):\n",
    "    #This function finds the hot or dead pixels in a 2D dataset. \n",
    "    #tolerance is the number of standard deviations used to cutoff the hot pixels\n",
    "    #If you want to ignore the edges and greatly speed up the code, then set\n",
    "    #worry_about_edges to False.\n",
    "    #\n",
    "    #The function returns a list of hot pixels and also an image with with hot pixels removed\n",
    "\n",
    "    from scipy.ndimage import median_filter\n",
    "    \n",
    "    blurred = median_filter(data, size=blur)\n",
    "    difference = data - blurred\n",
    "    threshold = 10*np.std(difference)\n",
    "\n",
    "    #find the hot pixels, but ignore the edges\n",
    "    hot_pixels = np.nonzero((difference[1:-1,1:-1]>threshold) )\n",
    "    hot_pixels = np.array(hot_pixels) + 1 #because we ignored the first row and first column\n",
    "    fixed_image = np.copy(data) #This is the image with the hot pixels removed\n",
    "    for y,x in zip(hot_pixels[0],hot_pixels[1]):\n",
    "        fixed_image[y,x]=blurred[y,x]\n",
    "\n",
    "    dead_pixels = np.nonzero(data<-10)\n",
    "    for y,x in zip(dead_pixels[0],dead_pixels[1]):\n",
    "        fixed_image[y,x]=blurred[y,x]\n",
    "\n",
    "    return fixed_image,blurred"
   ]
  },
  {
   "cell_type": "code",
   "execution_count": 9,
   "metadata": {},
   "outputs": [
    {
     "name": "stdout",
     "output_type": "stream",
     "text": [
      "Mean: 2.24262905121\n"
     ]
    },
    {
     "data": {
      "image/png": "[encoded data removed]",
      "text/plain": [
       "<Figure size 432x288 with 2 Axes>"
      ]
     },
     "metadata": {},
     "output_type": "display_data"
    }
   ],
   "source": [
    "#inspect the cleaned image\n",
    "new_image,blurred = find_outlier_pixels(cube_cut[13])\n",
    "plt.imshow(new_image, cmap='gray')\n",
    "plt.colorbar()\n",
    "print('Mean:', np.min(new_image))"
   ]
  },
  {
   "cell_type": "code",
   "execution_count": 10,
   "metadata": {},
   "outputs": [],
   "source": [
    "##new data cube with cleaned images inside\n",
    "\n",
    "white_out_list = np.array([])\n",
    "new_data_cube = []\n",
    "for i in range(len(cube_cut)):\n",
    "    if np.max(cube_cut[i]) > 10000:\n",
    "        white_out_list = np.append(white_out_list,i)\n",
    "        new_image,_ = find_outlier_pixels(cube_cut[i])\n",
    "        new_data_cube.append(new_image)\n",
    "    else:\n",
    "        new_data_cube.append(cube_cut[i])\n",
    "\n",
    "new_data_cube = np.array(new_data_cube)\n",
    "np.max(new_data_cube)\n",
    "## leave out images that are still overly saturated. \n",
    "data_cube_with_cleaned = []\n",
    "for i in range(len(new_data_cube)):\n",
    "    if np.max(new_data_cube[i]) > 10000:\n",
    "        pass\n",
    "    else:\n",
    "        data_cube_with_cleaned.append(new_data_cube[i])"
   ]
  },
  {
   "cell_type": "code",
   "execution_count": null,
   "metadata": {},
   "outputs": [],
   "source": []
  },
  {
   "cell_type": "code",
   "execution_count": null,
   "metadata": {},
   "outputs": [],
   "source": [
    "np.array(data_cube_with_cleaned).shape"
   ]
  },
  {
   "cell_type": "code",
   "execution_count": 11,
   "metadata": {},
   "outputs": [],
   "source": [
    "## alternative.\n",
    "### new data cube without images with overly-saturated points. \n",
    "data_cube_without_saturation = []\n",
    "for i in range(len(cube_cut)):\n",
    "    if np.max(cube_cut[i]) > 10000:\n",
    "        pass\n",
    "    else:\n",
    "        data_cube_without_saturation.append(cube_cut[i])\n",
    "\n"
   ]
  },
  {
   "cell_type": "code",
   "execution_count": 12,
   "metadata": {},
   "outputs": [
    {
     "data": {
      "text/plain": [
       "(742, 64, 64)"
      ]
     },
     "execution_count": 12,
     "metadata": {},
     "output_type": "execute_result"
    }
   ],
   "source": [
    "np.array(data_cube_without_saturation).shape"
   ]
  },
  {
   "cell_type": "code",
   "execution_count": null,
   "metadata": {},
   "outputs": [],
   "source": []
  },
  {
   "cell_type": "code",
   "execution_count": 13,
   "metadata": {},
   "outputs": [],
   "source": [
    "#normalisation\n",
    "def normalise_cube(data):\n",
    "    \n",
    "    print(np.min(data))\n",
    "    print(np.max(data))\n",
    "    data[data<0] = 0\n",
    "    new_data = data - np.min(data)\n",
    "    new_data = data / np.max(data)\n",
    "\n",
    "    print(np.min(new_data))\n",
    "    print(np.max(new_data))\n",
    "    print(\"normaliastion completed\")\n",
    "    return new_data\n",
    "    "
   ]
  },
  {
   "cell_type": "code",
   "execution_count": 36,
   "metadata": {},
   "outputs": [],
   "source": [
    "def local_normal(data):\n",
    "    data[data<0] = 0\n",
    "    new_imgs_list = []\n",
    "    for imgs in data:\n",
    "        local_min = np.min(imgs)\n",
    "        local_max = np.max(imgs)\n",
    "        new_imgs = imgs - local_min\n",
    "        new_imgs = new_imgs/local_max\n",
    "        new_imgs_list.append(new_imgs)\n",
    "    return np.array(new_imgs_list).reshape(-1,64,64)"
   ]
  },
  {
   "cell_type": "markdown",
   "metadata": {},
   "source": [
    "## Data augmentation\n"
   ]
  },
  {
   "cell_type": "code",
   "execution_count": 14,
   "metadata": {},
   "outputs": [],
   "source": [
    "import imgaug as ia \n",
    "from imgaug import augmenters as iaa"
   ]
  },
  {
   "cell_type": "code",
   "execution_count": null,
   "metadata": {},
   "outputs": [],
   "source": []
  },
  {
   "cell_type": "code",
   "execution_count": 15,
   "metadata": {},
   "outputs": [],
   "source": [
    "#train test split\n",
    "from sklearn.model_selection import train_test_split\n",
    "X = data_cube_without_saturation\n",
    "X_train, X_test = train_test_split(X, test_size=0.10, random_state=42)\n"
   ]
  },
  {
   "cell_type": "code",
   "execution_count": 16,
   "metadata": {},
   "outputs": [
    {
     "data": {
      "text/plain": [
       "((667, 64, 64), (75, 64, 64))"
      ]
     },
     "execution_count": 16,
     "metadata": {},
     "output_type": "execute_result"
    }
   ],
   "source": [
    "np.shape(X_train),np.shape(X_test)"
   ]
  },
  {
   "cell_type": "code",
   "execution_count": 55,
   "metadata": {},
   "outputs": [],
   "source": [
    "def add_salt_pepper_noise(X_imgs,sp_ratio=0.5,number=0.0006):\n",
    "    # Need to produce a copy as to not modify the original image\n",
    "    X_imgs_copy = X_imgs.copy()\n",
    "    row, col = X_imgs_copy.shape\n",
    "    salt_vs_pepper = sp_ratio\n",
    "    amount = number\n",
    "    num_salt = np.ceil(amount * X_imgs_copy.size * salt_vs_pepper)\n",
    "    num_pepper = np.ceil(amount * X_imgs_copy.size * (1.0 - salt_vs_pepper))\n",
    "\n",
    "        # Add Salt noise\n",
    "    coords = [np.random.randint(0, i - 1, int(num_salt)) for i in X_imgs_copy.shape]\n",
    "    X_imgs_copy[coords[0], coords[1]] = 1\n",
    "        # Add Pepper noise\n",
    "    coords = [np.random.randint(0, i - 1, int(num_pepper)) for i in X_imgs_copy.shape]\n",
    "    X_imgs_copy[coords[0], coords[1]] = 0\n",
    "    return X_imgs_copy"
   ]
  },
  {
   "cell_type": "code",
   "execution_count": 56,
   "metadata": {},
   "outputs": [],
   "source": [
    "def add_gaussian_noise(X_imgs,mean = 0,sigma = 0.1):\n",
    "    row, col= X_imgs.shape\n",
    "    gauss = np.random.normal(mean,sigma,(row,col))    \n",
    "    new_img = X_imgs + gauss\n",
    "\n",
    "    return new_img\n",
    "  \n"
   ]
  },
  {
   "cell_type": "code",
   "execution_count": null,
   "metadata": {},
   "outputs": [],
   "source": []
  },
  {
   "cell_type": "code",
   "execution_count": 82,
   "metadata": {},
   "outputs": [],
   "source": [
    "#make all negative pixels zero.\n",
    "X_train = np.array(X_train)\n",
    "X_test = np.array(X_test)\n"
   ]
  },
  {
   "cell_type": "code",
   "execution_count": 83,
   "metadata": {},
   "outputs": [],
   "source": [
    "nor_train = local_normal(X_train)\n",
    "nor_test = local_normal(X_test)"
   ]
  },
  {
   "cell_type": "raw",
   "metadata": {},
   "source": [
    "test = nor_train[29]\n",
    "gaussian_noise_test = add_salt_pepper_noise(test,sp_ratio=0.5,number=0.04)\n",
    "pos = plt.imshow(gaussian_noise_test,cmap=\"Blues\")\n",
    "plt.colorbar(pos)\n",
    "\n",
    "\n",
    "\n"
   ]
  },
  {
   "cell_type": "code",
   "execution_count": 25,
   "metadata": {},
   "outputs": [
    {
     "data": {
      "text/plain": [
       "<matplotlib.image.AxesImage at 0x1c3370f400>"
      ]
     },
     "execution_count": 25,
     "metadata": {},
     "output_type": "execute_result"
    },
    {
     "data": {
      "image/png": "[encoded data removed]",
      "text/plain": [
       "<Figure size 432x288 with 1 Axes>"
      ]
     },
     "metadata": {},
     "output_type": "display_data"
    }
   ],
   "source": [
    "fliper = iaa.Fliplr(1)\n",
    "test_flipped = fliper.augment_image(test)\n",
    "plt.imshow(test_flipped)"
   ]
  },
  {
   "cell_type": "code",
   "execution_count": 73,
   "metadata": {},
   "outputs": [],
   "source": [
    "##Data augmenation pipeline. \n",
    "\n",
    "def data_aug(data,check_img = False):\n",
    "    ##adding gaussian noise\n",
    "    length = len(data)\n",
    "    noise_list = np.arange(0,12,2)\n",
    "    randn_list = np.random.randint(len(noise_list),size=length)\n",
    "    noise_imgs = []\n",
    "    for idx,imgs in enumerate(data):\n",
    "        gaus_imgs = add_gaussian_noise(imgs,noise_list[randn_list[idx]],sigma=0.5)\n",
    "        if (check_img == True & idx == 300):\n",
    "            plt.imshow(gaus_imgs)\n",
    "            plt.show()\n",
    "        noise_imgs.append(gaus_imgs)\n",
    "    noise_imgs = np.array(noise_imgs).reshape(-1,64,64)\n",
    "    ##normalisation\n",
    "    nor_train = local_normal(noise_imgs)\n",
    "    ##add salt and pepper\n",
    "    augmented_imgs = []\n",
    "    sp_ratio_list = np.arange(0.1, 0.8,0.1)\n",
    "    freq = np.arange(0.01,0.04,0.005)\n",
    "    scale_list = np.arange(1.0,1.6, 0.05)\n",
    "    rotate_list = np.arange(-90,180,90)\n",
    "    randn_list2 = np.random.randint(len(sp_ratio_list),size=length)\n",
    "    randn_list3 = np.random.randint(len(freq),size=length)\n",
    "    randn_list4 = np.random.randint(len(scale_list),size=length)\n",
    "    randn_list5 = np.random.randint(2,size = length)\n",
    "    randn_list6 = np.random.randint(2,size = length)\n",
    "    randn_list7 = np.random.randint(len(rotate_list),size=length)\n",
    "    for idx,imgs in enumerate(nor_train):\n",
    "        enlarger = iaa.Affine(scale=scale_list[randn_list4[idx]])\n",
    "        scaled_imgs = enlarger.augment_image(imgs)\n",
    "        if (check_img == True & idx == 300):\n",
    "            plt.imshow(scaled_imgs)\n",
    "            plt.show()\n",
    "        seasoned = add_salt_pepper_noise(scaled_imgs,sp_ratio=sp_ratio_list[randn_list2[idx]],number=freq[randn_list3[idx]])\n",
    "        if (check_img == True & idx == 300):\n",
    "            plt.imshow(seasoned)\n",
    "            plt.show()\n",
    "        fliperlr = iaa.Fliplr(randn_list5[idx])\n",
    "        fliperud = iaa.Flipud(randn_list6[idx])\n",
    "        flip_imgs = fliperlr.augment_image(seasoned)\n",
    "        flip_imgs = fliperud.augment_image(flip_imgs)\n",
    "        if (check_img == True & idx == 300):\n",
    "            plt.imshow(flip_imgs)\n",
    "            plt.show()\n",
    "        rotator = iaa.Affine(rotate=rotate_list[randn_list7[idx]])\n",
    "        rotate_imgs = rotator.augment_image(flip_imgs)\n",
    "        if (check_img == True & idx == 300):\n",
    "            plt.imshow(rotate_imgs)\n",
    "            plt.show()\n",
    "        \n",
    "        augmented_imgs.append(rotate_imgs)\n",
    "    \n",
    "    return np.array(augmented_imgs).reshape(-1,64,64)\n",
    "        \n",
    "    \n",
    "        \n",
    "        "
   ]
  },
  {
   "cell_type": "code",
   "execution_count": 74,
   "metadata": {},
   "outputs": [],
   "source": [
    "#test \n",
    "aug_images = data_aug(X_train)"
   ]
  },
  {
   "cell_type": "code",
   "execution_count": 105,
   "metadata": {},
   "outputs": [],
   "source": [
    "aug_images.shape\n",
    "aug_data_cube = []\n",
    "for i in range(8):\n",
    "    aug_images = data_aug(X_train)\n",
    "    aug_data_cube.append(aug_images)\n",
    "aug_data_cube = np.array(aug_data_cube).reshape(-1,64,64)"
   ]
  },
  {
   "cell_type": "code",
   "execution_count": 106,
   "metadata": {},
   "outputs": [
    {
     "data": {
      "text/plain": [
       "(5336, 64, 64)"
      ]
     },
     "execution_count": 106,
     "metadata": {},
     "output_type": "execute_result"
    }
   ],
   "source": [
    "aug_data_cube.shape"
   ]
  },
  {
   "cell_type": "markdown",
   "metadata": {},
   "source": [
    "# Interpolation to create new images"
   ]
  },
  {
   "cell_type": "code",
   "execution_count": null,
   "metadata": {},
   "outputs": [],
   "source": [
    "np.shape(training)\n",
    "\n",
    "weight = np.arange(0.1,1,0.1)\n",
    "\n",
    "print(weight)\n",
    "new_img_list = np.array([])\n",
    "for i in range(1):\n",
    "    test_img = training[i]\n",
    "    for j in range(5):\n",
    "        if i != j:\n",
    "            test_img2 = training[j]\n",
    "            new_img = np.zeros_like(test_img)\n",
    "            randint = np.random.randint(len(weight))\n",
    "            for k in range(len(test_img)):\n",
    "                new_img[k] += (weight[randint]*test_img[k] +(1-weight[randint])*test_img2[k])/1\n",
    "            new_img_list = np.append(new_img_list,new_img)    \n",
    "\n",
    "new_img_list = new_img_list.reshape(-1,64,64)\n",
    "new_img_list.shape\n",
    "for i in range(len(new_img_list)):\n",
    "    print(np.max(new_img_list[i]),np.min(new_img_list[i]),np.mean(new_img_list[i]))"
   ]
  },
  {
   "cell_type": "code",
   "execution_count": null,
   "metadata": {},
   "outputs": [],
   "source": []
  },
  {
   "cell_type": "code",
   "execution_count": null,
   "metadata": {},
   "outputs": [],
   "source": []
  },
  {
   "cell_type": "code",
   "execution_count": null,
   "metadata": {},
   "outputs": [],
   "source": []
  },
  {
   "cell_type": "markdown",
   "metadata": {},
   "source": [
    "## stacking cube and normalisation"
   ]
  },
  {
   "cell_type": "code",
   "execution_count": 107,
   "metadata": {},
   "outputs": [
    {
     "data": {
      "text/plain": [
       "(6003, 64, 64)"
      ]
     },
     "execution_count": 107,
     "metadata": {},
     "output_type": "execute_result"
    }
   ],
   "source": [
    "train_image = np.vstack([nor_train,aug_data_cube])\n",
    "train_image.shape"
   ]
  },
  {
   "cell_type": "code",
   "execution_count": null,
   "metadata": {},
   "outputs": [],
   "source": []
  },
  {
   "cell_type": "code",
   "execution_count": 108,
   "metadata": {},
   "outputs": [],
   "source": [
    "np.save('HST_aug_data_6000', train_image)\n",
    "np.save('HST_aug_data_test', nor_test)"
   ]
  },
  {
   "cell_type": "code",
   "execution_count": 111,
   "metadata": {},
   "outputs": [
    {
     "data": {
      "text/plain": [
       "0.0"
      ]
     },
     "execution_count": 111,
     "metadata": {},
     "output_type": "execute_result"
    }
   ],
   "source": []
  },
  {
   "cell_type": "markdown",
   "metadata": {},
   "source": [
    "## check the residual between calib. stars"
   ]
  },
  {
   "cell_type": "code",
   "execution_count": null,
   "metadata": {},
   "outputs": [],
   "source": [
    "normalised_training_set = normalise_cube(data_cube_without_saturation)"
   ]
  },
  {
   "cell_type": "code",
   "execution_count": null,
   "metadata": {},
   "outputs": [],
   "source": [
    "mean_img = np.mean(normalised_training_set,axis=0)"
   ]
  },
  {
   "cell_type": "code",
   "execution_count": null,
   "metadata": {},
   "outputs": [],
   "source": [
    "residual_block = normalised_training_set - mean_img"
   ]
  },
  {
   "cell_type": "code",
   "execution_count": null,
   "metadata": {
    "scrolled": false
   },
   "outputs": [],
   "source": []
  },
  {
   "cell_type": "code",
   "execution_count": null,
   "metadata": {},
   "outputs": [],
   "source": []
  },
  {
   "cell_type": "code",
   "execution_count": null,
   "metadata": {},
   "outputs": [],
   "source": []
  }
 ],
 "metadata": {
  "kernelspec": {
   "display_name": "Python [conda env:py36]",
   "language": "python",
   "name": "conda-env-py36-py"
  },
  "language_info": {
   "codemirror_mode": {
    "name": "ipython",
    "version": 3
   },
   "file_extension": ".py",
   "mimetype": "text/x-python",
   "name": "python",
   "nbconvert_exporter": "python",
   "pygments_lexer": "ipython3",
   "version": "3.6.4"
  }
 },
 "nbformat": 4,
 "nbformat_minor": 2
}
